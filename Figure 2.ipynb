{
 "cells": [
  {
   "cell_type": "code",
   "execution_count": 31,
   "metadata": {},
   "outputs": [],
   "source": [
    "import tensorflow as tf\n",
    "import numpy as np\n",
    "import matplotlib.pyplot as plt\n",
    "import scipy\n",
    "\n",
    "from keras import initializers\n",
    "\n",
    "from keras.layers import Activation\n"
   ]
  },
  {
   "cell_type": "code",
   "execution_count": 32,
   "metadata": {},
   "outputs": [],
   "source": [
    "def custom_activation(x):\n",
    "    \n",
    "    return tf.math.erf(x/(tf.sqrt(2.*N)))"
   ]
  },
  {
   "cell_type": "code",
   "execution_count": 43,
   "metadata": {},
   "outputs": [],
   "source": [
    "def custom_activation2(x):\n",
    "    \n",
    "    return np.sqrt(2/np.pi)*(x/np.sqrt(N))\n",
    "\n",
    "def my_loss_fn(y_true, y_pred):\n",
    "    squared_difference = tf.square(y_true - y_pred)\n",
    "    return 1/2*tf.reduce_mean(squared_difference, axis=-1) "
   ]
  },
  {
   "cell_type": "code",
   "execution_count": 44,
   "metadata": {},
   "outputs": [],
   "source": [
    "def teacher_SCM(N,M,seed_M):\n",
    "    tf.random.set_seed(91)\n",
    "    teacher=tf.keras.models.Sequential([\n",
    "                                  \n",
    "    tf.keras.layers.Flatten(input_shape=(N,),name=\"layer0\"),\n",
    "\n",
    "    tf.keras.layers.Dense(M,activation=custom_activation,name=\"layer1\",use_bias=False,kernel_initializer=initializers.orthogonal(gain=np.sqrt(N),seed=6))])\n",
    "\n",
    "    out=tf.keras.layers.Dense(1, activation=None,name=\"layerout\",use_bias=False,kernel_initializer=initializers.RandomNormal(stddev=0,mean=1/np.sqrt(M)))\n",
    "    out.trainable=False\n",
    "    teacher.add(out)\n",
    "    teacher.compile(\n",
    "        optimizer=tf.keras.optimizers.SGD(1),\n",
    "        loss=my_loss_fn,\n",
    "        metrics=None,\n",
    "   \n",
    "    )\n",
    "        \n",
    "    \n",
    "    return teacher\n",
    "\n",
    "\n",
    "\n",
    "def student_SCM(N,K,M,eta,seed_K):\n",
    "    tf.random.set_seed(seed_K)\n",
    "    np.random.seed(seed_K)\n",
    "    input1 = tf.keras.Input(shape=(N,))\n",
    "    input2 =tf.keras.Input(shape=(K,))\n",
    "    input3 =tf.keras.Input(shape=(K,))\n",
    "    input4 =tf.keras.Input(shape=(K,))\n",
    "    hidden = tf.keras.layers.Dense(K, activation=custom_activation2,use_bias=False,\n",
    "                               name=\"hidden\",kernel_initializer=initializers.random_normal(stddev=0.,mean=0,seed=seed_K+3))(input1)\n",
    "    \n",
    "    mult= tf.keras.layers.multiply([hidden,input3])\n",
    "\n",
    "    outputs = tf.keras.layers.Dense(1, activation=None,use_bias=False,trainable=False,\n",
    "                                    name=\"out\",kernel_initializer=initializers.random_normal(stddev=0.,mean=1/np.sqrt(K),seed=seed_K))(mult)\n",
    "    student = tf.keras.Model(inputs=[input1,input3], outputs=outputs)\n",
    "    student.compile(\n",
    "        optimizer=tf.keras.optimizers.SGD(learning_rate=eta),\n",
    "        loss=my_loss_fn,\n",
    "        metrics=None,\n",
    "   \n",
    "    )\n",
    "\n",
    "\n",
    "    return student"
   ]
  },
  {
   "cell_type": "code",
   "execution_count": null,
   "metadata": {},
   "outputs": [],
   "source": []
  },
  {
   "cell_type": "code",
   "execution_count": 45,
   "metadata": {},
   "outputs": [],
   "source": [
    "def online_gen(student,teacher,N,p,seed):\n",
    "    np.random.seed(97)\n",
    "    values = np.random.normal(0,1,size=(N,K)).astype('float32')\n",
    "\n",
    "    np.random.seed(None)\n",
    " \n",
    "    for i in range(0,K):\n",
    "        \n",
    "    \n",
    "        values[:,i]=values[:,i]/(np.linalg.norm(values[:,i]))*np.sqrt(N)\n",
    "        \n",
    "    b=[]\n",
    "    b.append(values)\n",
    "    b.append(student.weights[1].numpy())\n",
    "\n",
    "    \n",
    "\n",
    "    \n",
    "    values=tf.convert_to_tensor(values)\n",
    "    \n",
    "    train=[]\n",
    "    error_test=[]\n",
    "    end=int(p/N)\n",
    "    x_test=np.random.default_rng().standard_normal(size=(15000,N), dtype='float32')\n",
    "\n",
    "    values_test=tf.transpose(tf.exp(-1/2*tf.transpose(tf.matmul(x_test,values)/np.sqrt(N))**2))\n",
    "    for alpha in range(0,end):\n",
    "        \n",
    "        x_train=np.random.default_rng().standard_normal(size=(N,N), dtype='float32')\n",
    "            \n",
    "        values_train=tf.transpose(tf.exp(-1/2*tf.transpose(tf.matmul(x_train,values)/np.sqrt(N))**2))\n",
    "        \n",
    "\n",
    "        \n",
    "        labels=teacher(x_train)\n",
    "        \n",
    "        labels_test=teacher(x_test)\n",
    "        error_test.append(np.mean(teacher.loss(labels_test,student([x_test,values_test]))))\n",
    "     \n",
    "        history =student.fit(\n",
    "           x=[x_train,values_train],\n",
    "            y=labels,\n",
    "            epochs = 1,\n",
    "            batch_size=1,\n",
    "            verbose = 0,\n",
    "            use_multiprocessing=True)\n",
    "       \n",
    "        \n",
    "        train.append(history.history[\"loss\"])\n",
    "        \n",
    "        if not alpha%100:\n",
    "            print(alpha)\n",
    "            print(error_test[alpha])\n",
    "        \n",
    "    return np.array(error_test),np.array(train)"
   ]
  },
  {
   "cell_type": "code",
   "execution_count": 46,
   "metadata": {},
   "outputs": [],
   "source": [
    "N=128\n",
    "K=1024\n",
    "M=1\n",
    "end=1000\n",
    "teacher=teacher_SCM(N,M,seed_M=2)\n",
    "student=student_SCM(N,K,M,eta=0.1,seed_K=1)\n",
    "np.random.seed(4)\n",
    "values = np.random.normal(0,1,size=(N,K)).astype('float32')\n",
    "    \n"
   ]
  },
  {
   "cell_type": "code",
   "execution_count": 47,
   "metadata": {},
   "outputs": [
    {
     "name": "stdout",
     "output_type": "stream",
     "text": [
      "0\n",
      "0.16754924\n",
      "100\n",
      "0.00783985\n",
      "200\n",
      "0.0074322047\n",
      "300\n",
      "0.0074779904\n",
      "400\n",
      "0.007446899\n",
      "500\n",
      "0.0074221916\n",
      "600\n",
      "0.007462469\n",
      "700\n",
      "0.0074705253\n",
      "800\n",
      "0.007481448\n",
      "900\n",
      "0.007450837\n"
     ]
    }
   ],
   "source": [
    "h1024,b=online_gen(student,teacher,N,N*end,seed=4) "
   ]
  },
  {
   "cell_type": "code",
   "execution_count": 51,
   "metadata": {},
   "outputs": [],
   "source": [
    "t=np.linspace(1,len(h1024),len(h1024))"
   ]
  },
  {
   "cell_type": "code",
   "execution_count": 52,
   "metadata": {},
   "outputs": [],
   "source": [
    "plateau=[]\n",
    "for i in range(len(h1024)):\n",
    "    plateau.append(1/6-1/(2*np.pi))"
   ]
  },
  {
   "cell_type": "code",
   "execution_count": 53,
   "metadata": {},
   "outputs": [
    {
     "data": {
      "image/png": "[encoded data removed]",
      "text/plain": [
       "<Figure size 576x360 with 1 Axes>"
      ]
     },
     "metadata": {
      "needs_background": "light"
     },
     "output_type": "display_data"
    }
   ],
   "source": [
    "a=75\n",
    "b=3500\n",
    "plt.figure(figsize=(8,5))\n",
    "plt.plot(t[a:b],h1024[a:b],linewidth=3)\n",
    "plt.plot(t[a:b],plateau[a:b],linewidth=3,color=\"red\",linestyle=\"--\")\n",
    "plt.xlabel(r\"$\\alpha$\",size=22)\n",
    "plt.ylabel(r\"$\\epsilon_g$\",size=22)\n",
    "plt.xticks(size=16)\n",
    "plt.yticks([0.0075,0.0079,0.0083,0.0087],size=16)\n",
    "plt.legend([\"Simulation\",r\"$\\epsilon_g^*$\",r\"$\\frac{M}{N}=\\frac{1}{8}$\",r\"$\\frac{M}{N}=\\frac{1}{16}$\",r\"$\\frac{M}{N}=\\frac{1}{32}$\"],fontsize=20,ncol=2)\n",
    "plt.show();\n"
   ]
  },
  {
   "cell_type": "code",
   "execution_count": null,
   "metadata": {},
   "outputs": [],
   "source": []
  }
 ],
 "metadata": {
  "kernelspec": {
   "display_name": "Python 3",
   "language": "python",
   "name": "python3"
  },
  "language_info": {
   "codemirror_mode": {
    "name": "ipython",
    "version": 3
   },
   "file_extension": ".py",
   "mimetype": "text/x-python",
   "name": "python",
   "nbconvert_exporter": "python",
   "pygments_lexer": "ipython3",
   "version": "3.8.5"
  }
 },
 "nbformat": 4,
 "nbformat_minor": 4
}
